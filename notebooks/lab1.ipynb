{
  "cells": [
    {
      "cell_type": "markdown",
      "id": "475ac0fd-a95e-4f8d-8162-b2cf2dcbec53",
      "metadata": {
        "tags": [],
        "id": "475ac0fd-a95e-4f8d-8162-b2cf2dcbec53"
      },
      "source": [
        "# Лабораторная работа 1.\n",
        "\n",
        "## Задание: Создать шахматную доску с помощью метода tile"
      ]
    },
    {
      "cell_type": "code",
      "execution_count": 12,
      "id": "36c29281-a651-48c6-92c4-bc1383f97353",
      "metadata": {
        "colab": {
          "base_uri": "https://localhost:8080/"
        },
        "id": "36c29281-a651-48c6-92c4-bc1383f97353",
        "outputId": "eb665d24-1420-4ffe-a083-61a6b542e1e9"
      },
      "outputs": [
        {
          "output_type": "stream",
          "name": "stdout",
          "text": [
            "[[1 0 1 0 1 0 1 0]\n",
            " [0 1 0 1 0 1 0 1]\n",
            " [1 0 1 0 1 0 1 0]\n",
            " [0 1 0 1 0 1 0 1]\n",
            " [1 0 1 0 1 0 1 0]\n",
            " [0 1 0 1 0 1 0 1]\n",
            " [1 0 1 0 1 0 1 0]\n",
            " [0 1 0 1 0 1 0 1]]\n"
          ]
        }
      ],
      "source": [
        "import numpy as np\n",
        "\n",
        "chessboard = np.tile(np.array([[1, 0], [0, 1]]), (4, 4))\n",
        "\n",
        "print(chessboard)"
      ]
    },
    {
      "cell_type": "code",
      "source": [],
      "metadata": {
        "id": "LpCptK9-nANq"
      },
      "id": "LpCptK9-nANq",
      "execution_count": null,
      "outputs": []
    }
  ],
  "metadata": {
    "kernelspec": {
      "display_name": "Python 3 (ipykernel)",
      "language": "python",
      "name": "python3"
    },
    "language_info": {
      "codemirror_mode": {
        "name": "ipython",
        "version": 3
      },
      "file_extension": ".py",
      "mimetype": "text/x-python",
      "name": "python",
      "nbconvert_exporter": "python",
      "pygments_lexer": "ipython3",
      "version": "3.9.12"
    },
    "colab": {
      "provenance": []
    }
  },
  "nbformat": 4,
  "nbformat_minor": 5
}